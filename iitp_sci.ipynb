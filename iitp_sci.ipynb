{
 "cells": [
  {
   "cell_type": "code",
   "execution_count": 62,
   "metadata": {},
   "outputs": [],
   "source": [
    "import pandas as pd\n",
    "import numpy as np"
   ]
  },
  {
   "cell_type": "code",
   "execution_count": 28,
   "metadata": {},
   "outputs": [
    {
     "data": {
      "text/plain": [
       "(199621, 37)"
      ]
     },
     "execution_count": 28,
     "metadata": {},
     "output_type": "execute_result"
    }
   ],
   "source": [
    "df=pd.read_csv(\"F:\\str.csv\")\n",
    "df.shape"
   ]
  },
  {
   "cell_type": "code",
   "execution_count": 148,
   "metadata": {},
   "outputs": [],
   "source": [
    "df['ci']=df['15']-df['21']"
   ]
  },
  {
   "cell_type": "code",
   "execution_count": 30,
   "metadata": {},
   "outputs": [],
   "source": [
    "df=df[df['21']<22]"
   ]
  },
  {
   "cell_type": "code",
   "execution_count": 36,
   "metadata": {},
   "outputs": [
    {
     "data": {
      "text/plain": [
       "count    69571.000000\n",
       "mean       205.547945\n",
       "std          0.014490\n",
       "min        205.509893\n",
       "25%        205.538654\n",
       "50%        205.548164\n",
       "75%        205.557439\n",
       "max        205.584904\n",
       "Name: 34, dtype: float64"
      ]
     },
     "execution_count": 36,
     "metadata": {},
     "output_type": "execute_result"
    }
   ],
   "source": [
    "df['34'].describe()"
   ]
  },
  {
   "cell_type": "code",
   "execution_count": 39,
   "metadata": {},
   "outputs": [],
   "source": [
    "df['d']=((df['1']-5000)**2 +(df['2']-5000)**2)**(0.5)"
   ]
  },
  {
   "cell_type": "code",
   "execution_count": 76,
   "metadata": {},
   "outputs": [],
   "source": [
    "dini=df[(df['1']>4995) & (df['1']<5005) & (df['2']>4995) & (df['2']<5005)]"
   ]
  },
  {
   "cell_type": "code",
   "execution_count": 77,
   "metadata": {},
   "outputs": [],
   "source": [
    "rac=dini['34'].mean()     #ra and dec of cluster center"
   ]
  },
  {
   "cell_type": "code",
   "execution_count": 78,
   "metadata": {},
   "outputs": [],
   "source": [
    "decc=dini['35'].mean()"
   ]
  },
  {
   "cell_type": "code",
   "execution_count": 79,
   "metadata": {},
   "outputs": [],
   "source": [
    "#calculating angular distance in radians\n",
    "df['cos']=np.sin(decc)*np.sin(df['35']) +np.cos(decc)*np.cos(df['35'])*np.sin(rac-df['34'])"
   ]
  },
  {
   "cell_type": "code",
   "execution_count": 80,
   "metadata": {},
   "outputs": [],
   "source": [
    "df['arccos']=np.arccos(df['cos'])"
   ]
  },
  {
   "cell_type": "code",
   "execution_count": 132,
   "metadata": {},
   "outputs": [
    {
     "name": "stdout",
     "output_type": "stream",
     "text": [
      "0         10887.580686\n",
      "1         10873.728412\n",
      "2         10893.386274\n",
      "3         10917.825224\n",
      "4         10858.092713\n",
      "5         10881.702457\n",
      "6         10849.052360\n",
      "7         10950.707001\n",
      "8         10936.169048\n",
      "9         10963.166534\n",
      "10        10854.649031\n",
      "11        10845.124144\n",
      "12        10858.547930\n",
      "13        10935.576258\n",
      "14        10948.921340\n",
      "15        10913.663655\n",
      "16        11002.700227\n",
      "17        10896.827928\n",
      "18        10919.356394\n",
      "19        10993.429848\n",
      "20        11014.154416\n",
      "21        10834.742019\n",
      "22        11005.827168\n",
      "23        10994.730334\n",
      "24        10908.823799\n",
      "25        10862.415151\n",
      "26        10972.371933\n",
      "27        10885.939765\n",
      "28        10924.810269\n",
      "29        10967.044503\n",
      "              ...     \n",
      "199510    11165.039765\n",
      "199519    11162.590032\n",
      "199526    11140.551728\n",
      "199542    11160.193957\n",
      "199543    11160.032439\n",
      "199550    11158.788284\n",
      "199552    11157.627730\n",
      "199554    11156.616929\n",
      "199559    11155.749048\n",
      "199566    11151.835727\n",
      "199567    11152.397116\n",
      "199570    11150.050575\n",
      "199571    11149.982361\n",
      "199572    11149.972553\n",
      "199578    11148.107270\n",
      "199581    11146.346196\n",
      "199583    11145.610301\n",
      "199588    11141.878314\n",
      "199593    11182.099047\n",
      "199596    11181.773439\n",
      "199599    11177.812539\n",
      "199601    11177.491999\n",
      "199602    11176.617484\n",
      "199603    11176.690808\n",
      "199606    11174.965145\n",
      "199607    11174.027453\n",
      "199610    11171.867396\n",
      "199613    11191.511832\n",
      "199618    11169.428408\n",
      "199619    11164.925886\n",
      "Name: dist, Length: 69571, dtype: float64\n"
     ]
    }
   ],
   "source": [
    "#distance to be used in calculation of abs mag\n",
    "df['dist']=df['arccos']*5000*np.sqrt(2)\n",
    "print(df['dist'])"
   ]
  },
  {
   "cell_type": "code",
   "execution_count": 133,
   "metadata": {},
   "outputs": [],
   "source": [
    "#calculating absolute magnitude\n",
    "df['absmag']=df['21']-5*np.log(df['dist']/10)"
   ]
  },
  {
   "cell_type": "code",
   "execution_count": 134,
   "metadata": {},
   "outputs": [
    {
     "data": {
      "text/plain": [
       "count    69571.000000\n",
       "mean       -16.076003\n",
       "std         12.879926\n",
       "min       -135.149037\n",
       "25%        -15.419044\n",
       "50%        -14.520533\n",
       "75%        -13.772561\n",
       "max        -12.927040\n",
       "Name: absmag, dtype: float64"
      ]
     },
     "execution_count": 134,
     "metadata": {},
     "output_type": "execute_result"
    }
   ],
   "source": [
    "df['absmag'].describe()"
   ]
  },
  {
   "cell_type": "code",
   "execution_count": null,
   "metadata": {},
   "outputs": [],
   "source": []
  },
  {
   "cell_type": "code",
   "execution_count": null,
   "metadata": {},
   "outputs": [],
   "source": []
  },
  {
   "cell_type": "code",
   "execution_count": 154,
   "metadata": {},
   "outputs": [
    {
     "name": "stdout",
     "output_type": "stream",
     "text": [
      "[10887.580686   10873.728412   10893.38627404 ... 11191.51183239\n",
      " 11169.42840808 11164.92588615]\n",
      "Half radius:  nan\n"
     ]
    }
   ],
   "source": [
    "from astropy.modeling.functional_models import Sersic1D\n",
    "from scipy.integrate import simps\n",
    "Sersic = Sersic1D(amplitude=1,r_eff=1,n=1)\n",
    "\n",
    "\n",
    "x = np.array(df['dist'].transpose())\n",
    "print(x)\n",
    "I = 2 * np.pi * x * Sersic(x)\n",
    "\n",
    "\n",
    "integral = [simps(I[0:i],x[0:i]) for i in np.arange(len(I)-1)+1]\n",
    "\n",
    "\n",
    "from scipy.interpolate import interp1d\n",
    "\n",
    "f_int = interp1d(integral,np.arange(len(I)-1)+1)\n",
    "print('Half radius: ', f_int(integral[-1]/2.))"
   ]
  },
  {
   "cell_type": "code",
   "execution_count": 136,
   "metadata": {},
   "outputs": [],
   "source": [
    "df['ds']=np.sqrt((df['2']-5000)**2+(df['1']-5000)**2)"
   ]
  },
  {
   "cell_type": "code",
   "execution_count": 137,
   "metadata": {},
   "outputs": [
    {
     "data": {
      "text/plain": [
       "0         3801.852316\n",
       "1         3870.036127\n",
       "2         3726.697775\n",
       "3         3591.931024\n",
       "4         3916.145238\n",
       "5         3749.781721\n",
       "6         3948.223910\n",
       "7         3359.632091\n",
       "8         3407.003040\n",
       "9         3283.939539\n",
       "10        3864.080707\n",
       "11        3923.336279\n",
       "12        3810.897402\n",
       "13        3358.542741\n",
       "14        3292.173545\n",
       "15        3441.990587\n",
       "16        3089.036060\n",
       "17        3522.918102\n",
       "18        3394.328151\n",
       "19        3091.551961\n",
       "20        3038.262574\n",
       "21        3917.310314\n",
       "22        3037.424725\n",
       "23        3055.797738\n",
       "24        3412.424414\n",
       "25        3703.882226\n",
       "26        3105.204411\n",
       "27        3534.568193\n",
       "28        3310.192458\n",
       "29        3119.961433\n",
       "             ...     \n",
       "199510    3408.744126\n",
       "199519    3396.036731\n",
       "199526    3248.367231\n",
       "199542    3399.644317\n",
       "199543    3344.373135\n",
       "199550    3292.441031\n",
       "199552    3349.787612\n",
       "199554    3380.671181\n",
       "199559    3349.455436\n",
       "199566    3341.786844\n",
       "199567    3269.068559\n",
       "199570    3312.132496\n",
       "199571    3317.139426\n",
       "199572    3304.803279\n",
       "199578    3263.275782\n",
       "199581    3291.314826\n",
       "199583    3233.783465\n",
       "199588    3236.040824\n",
       "199593    3486.238941\n",
       "199596    3444.980898\n",
       "199599    3428.425586\n",
       "199601    3416.642909\n",
       "199602    3469.466435\n",
       "199603    3457.385422\n",
       "199606    3446.929338\n",
       "199607    3476.408245\n",
       "199610    3459.122919\n",
       "199613    3507.831477\n",
       "199618    3480.903312\n",
       "199619    3467.878460\n",
       "Name: ds, Length: 69571, dtype: float64"
      ]
     },
     "execution_count": 137,
     "metadata": {},
     "output_type": "execute_result"
    }
   ],
   "source": [
    "df['ds']"
   ]
  },
  {
   "cell_type": "code",
   "execution_count": 98,
   "metadata": {},
   "outputs": [],
   "source": [
    "r=max(df['ds'])"
   ]
  },
  {
   "cell_type": "code",
   "execution_count": 99,
   "metadata": {},
   "outputs": [],
   "source": [
    "import math"
   ]
  },
  {
   "cell_type": "code",
   "execution_count": 100,
   "metadata": {},
   "outputs": [],
   "source": [
    "vol=(4/3)*math.pi*pow(r,3)\n"
   ]
  },
  {
   "cell_type": "code",
   "execution_count": 101,
   "metadata": {},
   "outputs": [],
   "source": [
    "no=df.shape[0]"
   ]
  },
  {
   "cell_type": "code",
   "execution_count": 102,
   "metadata": {},
   "outputs": [],
   "source": [
    "stellardensity=no/vol"
   ]
  },
  {
   "cell_type": "code",
   "execution_count": 103,
   "metadata": {},
   "outputs": [
    {
     "name": "stdout",
     "output_type": "stream",
     "text": [
      "2.6269306450884237e-07\n"
     ]
    }
   ],
   "source": [
    "print(stellardensity)"
   ]
  },
  {
   "cell_type": "code",
   "execution_count": 120,
   "metadata": {},
   "outputs": [
    {
     "data": {
      "text/plain": [
       "count    69571.000000\n",
       "mean         8.506381\n",
       "std         37.061908\n",
       "min        -99.999900\n",
       "25%         19.790800\n",
       "50%         21.042400\n",
       "75%         22.099200\n",
       "max         28.805000\n",
       "Name: 15, dtype: float64"
      ]
     },
     "execution_count": 120,
     "metadata": {},
     "output_type": "execute_result"
    }
   ],
   "source": [
    "df['15'].describe()"
   ]
  },
  {
   "cell_type": "code",
   "execution_count": 121,
   "metadata": {},
   "outputs": [
    {
     "data": {
      "text/plain": [
       "count    62311.000000\n",
       "mean        21.148701\n",
       "std          1.415371\n",
       "min         14.176200\n",
       "25%         20.238750\n",
       "50%         21.264100\n",
       "75%         22.206100\n",
       "max         28.805000\n",
       "Name: 15, dtype: float64"
      ]
     },
     "execution_count": 121,
     "metadata": {},
     "output_type": "execute_result"
    }
   ],
   "source": [
    "dh=df[df['15']>-90]\n",
    "dh['15'].describe()"
   ]
  },
  {
   "cell_type": "code",
   "execution_count": 126,
   "metadata": {},
   "outputs": [
    {
     "data": {
      "text/plain": [
       "count    61902.000000\n",
       "mean       -14.708504\n",
       "std          1.234853\n",
       "min        -22.820703\n",
       "25%        -15.400001\n",
       "50%        -14.518205\n",
       "75%        -13.775955\n",
       "max        -12.944121\n",
       "Name: absmag, dtype: float64"
      ]
     },
     "execution_count": 126,
     "metadata": {},
     "output_type": "execute_result"
    }
   ],
   "source": [
    "dh=dh[dh['21']>-90]\n",
    "dh['absmag'].describe()"
   ]
  },
  {
   "cell_type": "code",
   "execution_count": 127,
   "metadata": {},
   "outputs": [
    {
     "data": {
      "text/plain": [
       "<matplotlib.collections.PathCollection at 0x1c30edf0>"
      ]
     },
     "execution_count": 127,
     "metadata": {},
     "output_type": "execute_result"
    }
   ],
   "source": [
    "y=dh['absmag']\n",
    "x=dh['ci']\n",
    "import matplotlib.pyplot as plt\n",
    "plt.scatter(x,y,s=0.05)"
   ]
  },
  {
   "cell_type": "code",
   "execution_count": 139,
   "metadata": {},
   "outputs": [],
   "source": [
    "dh['dists']=(   (dh['dist'])/(5000*np.sqrt(2)) )* 10.4 *1000"
   ]
  },
  {
   "cell_type": "code",
   "execution_count": 140,
   "metadata": {},
   "outputs": [],
   "source": [
    "dh['am']=dh['21']-5*np.log(dh['dists']/10)"
   ]
  },
  {
   "cell_type": "code",
   "execution_count": 141,
   "metadata": {},
   "outputs": [
    {
     "data": {
      "text/plain": [
       "count    61902.000000\n",
       "mean       -16.637475\n",
       "std          1.234853\n",
       "min        -24.749675\n",
       "25%        -17.328972\n",
       "50%        -16.447177\n",
       "75%        -15.704927\n",
       "max        -14.873092\n",
       "Name: am, dtype: float64"
      ]
     },
     "execution_count": 141,
     "metadata": {},
     "output_type": "execute_result"
    }
   ],
   "source": [
    "dh['am'].describe()"
   ]
  },
  {
   "cell_type": "code",
   "execution_count": 152,
   "metadata": {},
   "outputs": [
    {
     "data": {
      "text/plain": [
       "<matplotlib.collections.PathCollection at 0x174a7b30>"
      ]
     },
     "execution_count": 152,
     "metadata": {},
     "output_type": "execute_result"
    },
    {
     "data": {
      "image/png": "[encoded data removed]",
      "text/plain": [
       "<Figure size 432x288 with 1 Axes>"
      ]
     },
     "metadata": {
      "needs_background": "light"
     },
     "output_type": "display_data"
    }
   ],
   "source": [
    "y=dh['am']\n",
    "x=dh['ci']\n",
    "import matplotlib.pyplot as plt\n",
    "plt.scatter(x,-y,s=0.05)"
   ]
  },
  {
   "cell_type": "code",
   "execution_count": null,
   "metadata": {},
   "outputs": [],
   "source": []
  }
 ],
 "metadata": {
  "kernelspec": {
   "display_name": "Python 3",
   "language": "python",
   "name": "python3"
  },
  "language_info": {
   "codemirror_mode": {
    "name": "ipython",
    "version": 3
   },
   "file_extension": ".py",
   "mimetype": "text/x-python",
   "name": "python",
   "nbconvert_exporter": "python",
   "pygments_lexer": "ipython3",
   "version": "3.5.2"
  }
 },
 "nbformat": 4,
 "nbformat_minor": 2
}
